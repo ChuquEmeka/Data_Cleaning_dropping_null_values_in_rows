{
  "cells": [
    {
      "cell_type": "markdown",
      "metadata": {
        "id": "view-in-github",
        "colab_type": "text"
      },
      "source": [
        "<a href=\"https://colab.research.google.com/github/ChuquEmeka/Data_Cleaning_dropping_null_values_in_rows/blob/main/Data_Cleaning_(dropping_null_values_in_rows).ipynb\" target=\"_parent\"><img src=\"https://colab.research.google.com/assets/colab-badge.svg\" alt=\"Open In Colab\"/></a>"
      ]
    },
    {
      "cell_type": "code",
      "execution_count": null,
      "id": "c08df723-8845-4220-97f6-49667c9e198d",
      "metadata": {
        "id": "c08df723-8845-4220-97f6-49667c9e198d"
      },
      "outputs": [],
      "source": [
        "import pandas as pd\n",
        "import numpy as np\n"
      ]
    },
    {
      "cell_type": "code",
      "execution_count": null,
      "id": "7a359585-1978-40c3-9801-9dc6ccfdc5a0",
      "metadata": {
        "id": "7a359585-1978-40c3-9801-9dc6ccfdc5a0"
      },
      "outputs": [],
      "source": [
        "commerce=pd.read_csv(\"Ecommerce_Customers.csv\")"
      ]
    },
    {
      "cell_type": "code",
      "execution_count": null,
      "id": "de5c8034-7ec7-4a90-991d-372e0e18b52b",
      "metadata": {
        "id": "de5c8034-7ec7-4a90-991d-372e0e18b52b",
        "outputId": "f603f185-f063-4eea-8134-4cc1156bad77"
      },
      "outputs": [
        {
          "data": {
            "text/plain": [
              "Email                     0\n",
              "Address                   0\n",
              "Avatar                  500\n",
              "Avg. Session Length     500\n",
              "Time on App             500\n",
              "Time on Website         500\n",
              "Length of Membership    500\n",
              "Yearly Amount Spent     546\n",
              "dtype: int64"
            ]
          },
          "execution_count": 16,
          "metadata": {},
          "output_type": "execute_result"
        }
      ],
      "source": [
        "commerce.isnull().sum()"
      ]
    },
    {
      "cell_type": "code",
      "execution_count": null,
      "id": "cb418495-e183-4c64-9831-16f79ab203c4",
      "metadata": {
        "id": "cb418495-e183-4c64-9831-16f79ab203c4"
      },
      "outputs": [],
      "source": [
        "commerce.dropna(axis=0,inplace=True)"
      ]
    },
    {
      "cell_type": "code",
      "execution_count": null,
      "id": "b7aa0b3c-8a54-489f-950e-5bed2e5714dc",
      "metadata": {
        "id": "b7aa0b3c-8a54-489f-950e-5bed2e5714dc"
      },
      "outputs": [],
      "source": [
        "commerce1=commerce.drop([\"Email\", \"Address\", \"Avatar\"], axis = 1)"
      ]
    },
    {
      "cell_type": "code",
      "execution_count": null,
      "id": "44644e42-2708-4be6-9640-015a26000f4a",
      "metadata": {
        "id": "44644e42-2708-4be6-9640-015a26000f4a",
        "outputId": "36af8f4f-50de-4a46-dc12-283d7d1be80e"
      },
      "outputs": [
        {
          "data": {
            "text/html": [
              "<div>\n",
              "<style scoped>\n",
              "    .dataframe tbody tr th:only-of-type {\n",
              "        vertical-align: middle;\n",
              "    }\n",
              "\n",
              "    .dataframe tbody tr th {\n",
              "        vertical-align: top;\n",
              "    }\n",
              "\n",
              "    .dataframe thead th {\n",
              "        text-align: right;\n",
              "    }\n",
              "</style>\n",
              "<table border=\"1\" class=\"dataframe\">\n",
              "  <thead>\n",
              "    <tr style=\"text-align: right;\">\n",
              "      <th></th>\n",
              "      <th>Avg. Session Length</th>\n",
              "      <th>Time on App</th>\n",
              "      <th>Time on Website</th>\n",
              "      <th>Length of Membership</th>\n",
              "      <th>Yearly Amount Spent</th>\n",
              "    </tr>\n",
              "  </thead>\n",
              "  <tbody>\n",
              "    <tr>\n",
              "      <th>1</th>\n",
              "      <td>34.497268</td>\n",
              "      <td>12.655651</td>\n",
              "      <td>39.577668</td>\n",
              "      <td>4.082621</td>\n",
              "      <td>587.951054</td>\n",
              "    </tr>\n",
              "    <tr>\n",
              "      <th>3</th>\n",
              "      <td>31.926272</td>\n",
              "      <td>11.109461</td>\n",
              "      <td>37.268959</td>\n",
              "      <td>2.664034</td>\n",
              "      <td>392.204933</td>\n",
              "    </tr>\n",
              "    <tr>\n",
              "      <th>5</th>\n",
              "      <td>33.000915</td>\n",
              "      <td>11.330278</td>\n",
              "      <td>37.110597</td>\n",
              "      <td>4.104543</td>\n",
              "      <td>487.547505</td>\n",
              "    </tr>\n",
              "    <tr>\n",
              "      <th>7</th>\n",
              "      <td>34.305557</td>\n",
              "      <td>13.717514</td>\n",
              "      <td>36.721283</td>\n",
              "      <td>3.120179</td>\n",
              "      <td>581.852344</td>\n",
              "    </tr>\n",
              "    <tr>\n",
              "      <th>9</th>\n",
              "      <td>33.330673</td>\n",
              "      <td>12.795189</td>\n",
              "      <td>37.536653</td>\n",
              "      <td>4.446308</td>\n",
              "      <td>599.406092</td>\n",
              "    </tr>\n",
              "    <tr>\n",
              "      <th>...</th>\n",
              "      <td>...</td>\n",
              "      <td>...</td>\n",
              "      <td>...</td>\n",
              "      <td>...</td>\n",
              "      <td>...</td>\n",
              "    </tr>\n",
              "    <tr>\n",
              "      <th>991</th>\n",
              "      <td>33.237660</td>\n",
              "      <td>13.566160</td>\n",
              "      <td>36.417985</td>\n",
              "      <td>3.746573</td>\n",
              "      <td>573.847438</td>\n",
              "    </tr>\n",
              "    <tr>\n",
              "      <th>993</th>\n",
              "      <td>34.702529</td>\n",
              "      <td>11.695736</td>\n",
              "      <td>37.190268</td>\n",
              "      <td>3.576526</td>\n",
              "      <td>529.049004</td>\n",
              "    </tr>\n",
              "    <tr>\n",
              "      <th>995</th>\n",
              "      <td>32.646777</td>\n",
              "      <td>11.499409</td>\n",
              "      <td>38.332576</td>\n",
              "      <td>4.958264</td>\n",
              "      <td>551.620146</td>\n",
              "    </tr>\n",
              "    <tr>\n",
              "      <th>997</th>\n",
              "      <td>33.322501</td>\n",
              "      <td>12.391423</td>\n",
              "      <td>36.840086</td>\n",
              "      <td>2.336485</td>\n",
              "      <td>456.469510</td>\n",
              "    </tr>\n",
              "    <tr>\n",
              "      <th>999</th>\n",
              "      <td>33.715981</td>\n",
              "      <td>12.418808</td>\n",
              "      <td>35.771016</td>\n",
              "      <td>2.735160</td>\n",
              "      <td>497.778642</td>\n",
              "    </tr>\n",
              "  </tbody>\n",
              "</table>\n",
              "<p>454 rows × 5 columns</p>\n",
              "</div>"
            ],
            "text/plain": [
              "     Avg. Session Length  Time on App  Time on Website  Length of Membership  \\\n",
              "1              34.497268    12.655651        39.577668              4.082621   \n",
              "3              31.926272    11.109461        37.268959              2.664034   \n",
              "5              33.000915    11.330278        37.110597              4.104543   \n",
              "7              34.305557    13.717514        36.721283              3.120179   \n",
              "9              33.330673    12.795189        37.536653              4.446308   \n",
              "..                   ...          ...              ...                   ...   \n",
              "991            33.237660    13.566160        36.417985              3.746573   \n",
              "993            34.702529    11.695736        37.190268              3.576526   \n",
              "995            32.646777    11.499409        38.332576              4.958264   \n",
              "997            33.322501    12.391423        36.840086              2.336485   \n",
              "999            33.715981    12.418808        35.771016              2.735160   \n",
              "\n",
              "     Yearly Amount Spent  \n",
              "1             587.951054  \n",
              "3             392.204933  \n",
              "5             487.547505  \n",
              "7             581.852344  \n",
              "9             599.406092  \n",
              "..                   ...  \n",
              "991           573.847438  \n",
              "993           529.049004  \n",
              "995           551.620146  \n",
              "997           456.469510  \n",
              "999           497.778642  \n",
              "\n",
              "[454 rows x 5 columns]"
            ]
          },
          "execution_count": 26,
          "metadata": {},
          "output_type": "execute_result"
        }
      ],
      "source": [
        "commerce1"
      ]
    },
    {
      "cell_type": "code",
      "execution_count": null,
      "id": "2fc7bbe0-a982-4503-a466-f3b04643e5c9",
      "metadata": {
        "id": "2fc7bbe0-a982-4503-a466-f3b04643e5c9"
      },
      "outputs": [],
      "source": [
        "commerce1.to_csv(\"commerce.csv\")"
      ]
    },
    {
      "cell_type": "code",
      "execution_count": null,
      "id": "171e2862-2b7c-44f5-be5d-b5930d23aa0b",
      "metadata": {
        "id": "171e2862-2b7c-44f5-be5d-b5930d23aa0b"
      },
      "outputs": [],
      "source": [
        ""
      ]
    }
  ],
  "metadata": {
    "kernelspec": {
      "display_name": "Python 3 (ipykernel)",
      "language": "python",
      "name": "python3"
    },
    "language_info": {
      "codemirror_mode": {
        "name": "ipython",
        "version": 3
      },
      "file_extension": ".py",
      "mimetype": "text/x-python",
      "name": "python",
      "nbconvert_exporter": "python",
      "pygments_lexer": "ipython3",
      "version": "3.8.12"
    },
    "colab": {
      "name": "Data Cleaning (dropping null values in rows).ipynb",
      "provenance": [],
      "include_colab_link": true
    }
  },
  "nbformat": 4,
  "nbformat_minor": 5
}